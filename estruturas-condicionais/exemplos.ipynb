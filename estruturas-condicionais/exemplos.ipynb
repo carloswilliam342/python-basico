{
 "cells": [
  {
   "cell_type": "markdown",
   "metadata": {},
   "source": [
    "Imagine um sistema de notas escolares que solicita as notas do aluno calcula uma media e exibe se o aluno esta aprovado ou reprova de acordo com os seguintes criterios: \n",
    " - Se a media for maior que 7, o aluno esta APROVADO\n",
    " - Se a media for entre 5 e 7, o aluno esta de RECUPERACAO\n",
    " - Se a media for menor que 5 o aluno esta REPROVADO"
   ]
  },
  {
   "cell_type": "code",
   "execution_count": 4,
   "metadata": {},
   "outputs": [
    {
     "name": "stdout",
     "output_type": "stream",
     "text": [
      "Media do aluno :  1.0\n",
      "REPROVADO\n"
     ]
    }
   ],
   "source": [
    "#Exemplo do if\n",
    "nota1 = float(input(\"Digite a nota 1:\"))\n",
    "nota2 = float(input(\"Digite a nota 2:\"))\n",
    "nota3 = float(input(\"Digite a nota 3:\"))\n",
    "\n",
    "media = (nota1+nota2+nota3)/3\n",
    "print(\"Media do aluno : \",media)\n",
    "if media>=7:\n",
    "    print(\"APROVADO\")\n",
    "if media>5 and media<7:\n",
    "    print(\"RECUPERACAO\")\n",
    "if media<5:\n",
    "    print(\"REPROVADO\")\n"
   ]
  },
  {
   "cell_type": "code",
   "execution_count": null,
   "metadata": {},
   "outputs": [],
   "source": [
    "#Exemplo do else\n",
    "nota1 = float(input(\"Digite a nota 1:\"))\n",
    "nota2 = float(input(\"Digite a nota 2:\"))\n",
    "nota3 = float(input(\"Digite a nota 3:\"))\n",
    "\n",
    "media = (nota1+nota2+nota3)/3\n",
    "print(\"Media do aluno : \",media)\n",
    "if media>=7:\n",
    "    print(\"APROVADO\")\n",
    "if media>5 and media<7:\n",
    "    print(\"RECUPERACAO\")\n",
    "else:\n",
    "    print(\"REPROVADO\")"
   ]
  },
  {
   "cell_type": "markdown",
   "metadata": {},
   "source": [
    "Para observar este mesmo problema com estruturas aninhadas vamos adicionar a seguinte condição: Se a media do aluno for maior que 9, ele foi APROVADO COM EXCELENCIA"
   ]
  },
  {
   "cell_type": "code",
   "execution_count": null,
   "metadata": {},
   "outputs": [],
   "source": [
    "#Exemplo de estrutura aninhada\n",
    "nota1 = float(input(\"Digite a nota 1:\"))\n",
    "nota2 = float(input(\"Digite a nota 2:\"))\n",
    "nota3 = float(input(\"Digite a nota 3:\"))\n",
    "\n",
    "media = (nota1+nota2+nota3)/3\n",
    "print(\"Media do aluno : \",media)\n",
    "if media>=7:\n",
    "    if media>=9:\n",
    "        print(\"APROVADO COM EXCELENCIA\")\n",
    "    else:\n",
    "        print(\"APROVADO\") \n",
    "if media>5 and media<7:\n",
    "    print(\"RECUPERACAO\")\n",
    "else:\n",
    "    print(\"REPROVADO\")"
   ]
  },
  {
   "cell_type": "code",
   "execution_count": 6,
   "metadata": {},
   "outputs": [
    {
     "name": "stdout",
     "output_type": "stream",
     "text": [
      "Media do aluno :  2.6666666666666665\n",
      "REPROVADO\n"
     ]
    }
   ],
   "source": [
    "#exemplo com elif\n",
    "nota1 = float(input(\"Digite a nota 1:\"))\n",
    "nota2 = float(input(\"Digite a nota 2:\"))\n",
    "nota3 = float(input(\"Digite a nota 3:\"))\n",
    "\n",
    "media = (nota1+nota2+nota3)/3\n",
    "print(\"Media do aluno : \",media)\n",
    "if media>=9:\n",
    "    print(\"APROVADO COM EXCELENCIA\")\n",
    "elif media>=7:\n",
    "    print(\"APROVADO\") \n",
    "elif media>5 and media<7:\n",
    "    print(\"RECUPERACAO\")\n",
    "else:\n",
    "    print(\"REPROVADO\")"
   ]
  }
 ],
 "metadata": {
  "kernelspec": {
   "display_name": "base",
   "language": "python",
   "name": "python3"
  },
  "language_info": {
   "codemirror_mode": {
    "name": "ipython",
    "version": 3
   },
   "file_extension": ".py",
   "mimetype": "text/x-python",
   "name": "python",
   "nbconvert_exporter": "python",
   "pygments_lexer": "ipython3",
   "version": "3.11.4"
  }
 },
 "nbformat": 4,
 "nbformat_minor": 2
}
