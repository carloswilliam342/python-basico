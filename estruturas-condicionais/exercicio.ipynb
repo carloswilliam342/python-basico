{
 "cells": [
  {
   "cell_type": "markdown",
   "metadata": {},
   "source": [
    "# Exercicio de fixação: Calculadora de IMC\n",
    "Desenvolva um programa que calcule o Índice de Massa Corporal (IMC) de uma pessoa e classifique seu peso de acordo com a tabela padrão da Organização Mundial da Saúde (OMS).\n",
    "\n",
    "A fórmula para calcular o IMC é:\n",
    "$$\n",
    "IMC = \\frac{peso \\ (kg)}{altura^2 \\ (m^2)}\n",
    "$$\n",
    "Classificações do IMC:\n",
    "\n",
    " - Abaixo do peso: IMC < 18.5\n",
    " - Peso normal: 18.5 ≤ IMC < 24.9\n",
    " - Sobrepeso: 25 ≤ IMC < 29.9\n",
    " - Obesidade Grau I: 30 ≤ IMC < 34.9\n",
    " - Obesidade Grau II: 35 ≤ IMC < 39.9\n",
    " - Obesidade Grau III: IMC ≥ 40\n",
    "\n"
   ]
  },
  {
   "cell_type": "code",
   "execution_count": 4,
   "metadata": {},
   "outputs": [
    {
     "name": "stdout",
     "output_type": "stream",
     "text": [
      "Seu IMC é: 21.60\n",
      "Classificação: Peso normal\n"
     ]
    }
   ],
   "source": [
    "peso = float(input(\"Digite seu peso em kg: \"))\n",
    "altura = float(input(\"Digite sua altura em metros: \"))\n",
    "\n",
    "if peso <= 0 or altura <= 0:\n",
    "    print(\"Dados inválidos. Digite valores positivos.\")\n",
    "else:\n",
    "    imc = peso/(altura ** 2)\n",
    "    print(f\"Seu IMC é: {imc:.2f}\")\n",
    "\n",
    "    if imc < 18.5:\n",
    "        print(\"Classificação: Abaixo do peso\")\n",
    "    elif imc < 24.9:\n",
    "        print(\"Classificação: Peso normal\")\n",
    "    elif imc < 29.9:\n",
    "        print(\"Classificação: Sobrepeso\")\n",
    "    elif imc < 34.9:\n",
    "        print(\"Classificação: Obesidade Grau I\")\n",
    "    elif imc < 39.9:\n",
    "        print(\"Classificação: Obesidade Grau II\")\n",
    "    else:\n",
    "        print(\"Classificação: Obesidade Grau III\")"
   ]
  }
 ],
 "metadata": {
  "kernelspec": {
   "display_name": "base",
   "language": "python",
   "name": "python3"
  },
  "language_info": {
   "codemirror_mode": {
    "name": "ipython",
    "version": 3
   },
   "file_extension": ".py",
   "mimetype": "text/x-python",
   "name": "python",
   "nbconvert_exporter": "python",
   "pygments_lexer": "ipython3",
   "version": "3.11.4"
  }
 },
 "nbformat": 4,
 "nbformat_minor": 2
}
