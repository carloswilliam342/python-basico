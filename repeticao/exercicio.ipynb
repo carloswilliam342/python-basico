{
 "cells": [
  {
   "cell_type": "markdown",
   "metadata": {},
   "source": [
    "Crie um programa que solicite números ao usuário até que ele digite 0. O programa deve somar todos os números positivos informados e, ao final, exibir a soma total. Números negativos devem ser ignorados."
   ]
  },
  {
   "cell_type": "code",
   "execution_count": 3,
   "metadata": {},
   "outputs": [
    {
     "name": "stdout",
     "output_type": "stream",
     "text": [
      "Soma final:  12\n"
     ]
    }
   ],
   "source": [
    "n=1\n",
    "soma = 0\n",
    "while n!= 0:\n",
    "    n = int(input(\"Digite um numero(0 para sair):\"))\n",
    "    if(n>0):\n",
    "        soma += n\n",
    "print(\"Soma final: \",soma)"
   ]
  }
 ],
 "metadata": {
  "kernelspec": {
   "display_name": "base",
   "language": "python",
   "name": "python3"
  },
  "language_info": {
   "codemirror_mode": {
    "name": "ipython",
    "version": 3
   },
   "file_extension": ".py",
   "mimetype": "text/x-python",
   "name": "python",
   "nbconvert_exporter": "python",
   "pygments_lexer": "ipython3",
   "version": "3.11.4"
  }
 },
 "nbformat": 4,
 "nbformat_minor": 2
}
