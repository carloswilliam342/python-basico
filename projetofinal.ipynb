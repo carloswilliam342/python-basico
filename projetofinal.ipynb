{
 "cells": [
  {
   "cell_type": "markdown",
   "metadata": {},
   "source": [
    "Desenvolva uma Calculadora Simples que permita ao usuário realizar as quatro operações básicas: adição, subtração, multiplicação e divisão.\n",
    "O programa deve:\n",
    " - Exibir um menu com as opções disponíveis:\n",
    " - Permitir que o usuário escolha uma operação.\n",
    " - Solicitar dois números para realizar o cálculo.\n",
    " - Exibir o resultado da operação escolhida.\n",
    " - Voltar ao menu após cada cálculo até que o usuário escolha a opção “Sair”.\n",
    " - Tratar erros, como:\n",
    "   - Divisão por zero.\n",
    "   - Entrada de dados inválidos.\n"
   ]
  },
  {
   "cell_type": "code",
   "execution_count": 5,
   "metadata": {},
   "outputs": [
    {
     "name": "stdout",
     "output_type": "stream",
     "text": [
      "\n",
      "==== CALCULADORA SIMPLES ====\n",
      "1 - Adição\n",
      "2 - Subtração\n",
      "3 - Multiplicação\n",
      "4 - Divisão\n",
      "0 - Sair\n",
      "=============================\n",
      "Resultado: 10.0 + 2.0 = 12.0\n",
      "\n",
      "==== CALCULADORA SIMPLES ====\n",
      "1 - Adição\n",
      "2 - Subtração\n",
      "3 - Multiplicação\n",
      "4 - Divisão\n",
      "0 - Sair\n",
      "=============================\n",
      "Resultado: 0.0 - 0.0 = 0.0\n",
      "\n",
      "==== CALCULADORA SIMPLES ====\n",
      "1 - Adição\n",
      "2 - Subtração\n",
      "3 - Multiplicação\n",
      "4 - Divisão\n",
      "0 - Sair\n",
      "=============================\n",
      "Saindo, até a próxima!\n"
     ]
    }
   ],
   "source": [
    "while True:\n",
    "    print(\"\\n==== CALCULADORA SIMPLES ====\")\n",
    "    print(\"1 - Adição\")\n",
    "    print(\"2 - Subtração\")\n",
    "    print(\"3 - Multiplicação\")\n",
    "    print(\"4 - Divisão\")\n",
    "    print(\"0 - Sair\")\n",
    "    print(\"=============================\")\n",
    "\n",
    "    opcao = input(\"Escolha uma opcao: \")\n",
    "    if opcao == \"0\":\n",
    "        print(\"Saindo, até a próxima!\")\n",
    "        break\n",
    "\n",
    "    num1 = float(input(\"Digite o primeiro numero: \"))\n",
    "    num2 = float(input(\"Digite o segundo numero: \"))\n",
    "    \n",
    "    if opcao == \"1\":\n",
    "        resultado = num1 + num2\n",
    "        print(f\"Resultado: {num1} + {num2} = {resultado}\")\n",
    "        continue\n",
    "    elif opcao == \"2\":\n",
    "        resultado = num1 - num2\n",
    "        print(f\"Resultado: {num1} - {num2} = {resultado}\")\n",
    "        continue\n",
    "    elif opcao == \"3\":\n",
    "        resultado = num1 * num2\n",
    "        print(f\"Resultado: {num1} * {num2} = {resultado}\")\n",
    "        continue\n",
    "    elif opcao == \"4\":\n",
    "        if num2 == 0:\n",
    "            print(\"Erro: Divisão por zero não é permitida.\")\n",
    "            continue\n",
    "        else:\n",
    "            resultado = num1 / num2\n",
    "            print(f\"Resultado: {num1} / {num2} = {resultado}\")\n",
    "            continue\n",
    "    else:\n",
    "        print(\"Opcao invalida\")\n",
    "        continue"
   ]
  }
 ],
 "metadata": {
  "kernelspec": {
   "display_name": "base",
   "language": "python",
   "name": "python3"
  },
  "language_info": {
   "codemirror_mode": {
    "name": "ipython",
    "version": 3
   },
   "file_extension": ".py",
   "mimetype": "text/x-python",
   "name": "python",
   "nbconvert_exporter": "python",
   "pygments_lexer": "ipython3",
   "version": "3.11.4"
  }
 },
 "nbformat": 4,
 "nbformat_minor": 2
}
